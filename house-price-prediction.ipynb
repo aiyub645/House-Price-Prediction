{
 "cells": [
  {
   "cell_type": "markdown",
   "id": "perceived-rocket",
   "metadata": {
    "papermill": {
     "duration": 0.039684,
     "end_time": "2021-04-16T03:38:24.912873",
     "exception": false,
     "start_time": "2021-04-16T03:38:24.873189",
     "status": "completed"
    },
    "tags": []
   },
   "source": [
    "# House Price Prediction in California, USA"
   ]
  },
  {
   "cell_type": "markdown",
   "id": "olympic-anniversary",
   "metadata": {
    "papermill": {
     "duration": 0.037498,
     "end_time": "2021-04-16T03:38:24.987708",
     "exception": false,
     "start_time": "2021-04-16T03:38:24.950210",
     "status": "completed"
    },
    "tags": []
   },
   "source": [
    "**Predicting house prices can help to determine the selling price of a house of a particular region and can help people to find the right time to buy a home. In this article, I will introduce you to a machine learning project on house price prediction with Python.**"
   ]
  },
  {
   "cell_type": "code",
   "execution_count": 1,
   "id": "forward-mountain",
   "metadata": {
    "execution": {
     "iopub.execute_input": "2021-04-16T03:38:25.074658Z",
     "iopub.status.busy": "2021-04-16T03:38:25.073844Z",
     "iopub.status.idle": "2021-04-16T03:38:26.648640Z",
     "shell.execute_reply": "2021-04-16T03:38:26.649191Z"
    },
    "papermill": {
     "duration": 1.621143,
     "end_time": "2021-04-16T03:38:26.649507",
     "exception": false,
     "start_time": "2021-04-16T03:38:25.028364",
     "status": "completed"
    },
    "tags": []
   },
   "outputs": [],
   "source": [
    "# Importing the Libraries\n",
    "import numpy as np\n",
    "import matplotlib.pyplot as plt\n",
    "import pandas as pd\n",
    "from sklearn import preprocessing\n",
    "from sklearn.model_selection import train_test_split\n",
    "from sklearn.linear_model import LinearRegression\n",
    "from sklearn.metrics import r2_score\n",
    "from sklearn.metrics import mean_squared_error\n",
    "from sklearn.neighbors import KNeighborsRegressor\n",
    "from sklearn.svm import SVR\n",
    "from sklearn.tree import DecisionTreeRegressor\n",
    "from sklearn.model_selection import GridSearchCV\n",
    "from datetime import datetime"
   ]
  },
  {
   "cell_type": "code",
   "execution_count": 2,
   "id": "motivated-romantic",
   "metadata": {
    "execution": {
     "iopub.execute_input": "2021-04-16T03:38:26.729124Z",
     "iopub.status.busy": "2021-04-16T03:38:26.728139Z",
     "iopub.status.idle": "2021-04-16T03:38:26.840214Z",
     "shell.execute_reply": "2021-04-16T03:38:26.840732Z"
    },
    "papermill": {
     "duration": 0.153295,
     "end_time": "2021-04-16T03:38:26.840899",
     "exception": false,
     "start_time": "2021-04-16T03:38:26.687604",
     "status": "completed"
    },
    "tags": []
   },
   "outputs": [
    {
     "data": {
      "text/html": [
       "<div>\n",
       "<style scoped>\n",
       "    .dataframe tbody tr th:only-of-type {\n",
       "        vertical-align: middle;\n",
       "    }\n",
       "\n",
       "    .dataframe tbody tr th {\n",
       "        vertical-align: top;\n",
       "    }\n",
       "\n",
       "    .dataframe thead th {\n",
       "        text-align: right;\n",
       "    }\n",
       "</style>\n",
       "<table border=\"1\" class=\"dataframe\">\n",
       "  <thead>\n",
       "    <tr style=\"text-align: right;\">\n",
       "      <th></th>\n",
       "      <th>longitude</th>\n",
       "      <th>latitude</th>\n",
       "      <th>housing_median_age</th>\n",
       "      <th>total_rooms</th>\n",
       "      <th>total_bedrooms</th>\n",
       "      <th>population</th>\n",
       "      <th>households</th>\n",
       "      <th>median_income</th>\n",
       "      <th>median_house_value</th>\n",
       "      <th>ocean_proximity</th>\n",
       "    </tr>\n",
       "  </thead>\n",
       "  <tbody>\n",
       "    <tr>\n",
       "      <th>0</th>\n",
       "      <td>-122.23</td>\n",
       "      <td>37.88</td>\n",
       "      <td>41.0</td>\n",
       "      <td>880.0</td>\n",
       "      <td>129.0</td>\n",
       "      <td>322.0</td>\n",
       "      <td>126.0</td>\n",
       "      <td>8.3252</td>\n",
       "      <td>452600.0</td>\n",
       "      <td>NEAR BAY</td>\n",
       "    </tr>\n",
       "    <tr>\n",
       "      <th>1</th>\n",
       "      <td>-122.22</td>\n",
       "      <td>37.86</td>\n",
       "      <td>21.0</td>\n",
       "      <td>7099.0</td>\n",
       "      <td>1106.0</td>\n",
       "      <td>2401.0</td>\n",
       "      <td>1138.0</td>\n",
       "      <td>8.3014</td>\n",
       "      <td>358500.0</td>\n",
       "      <td>NEAR BAY</td>\n",
       "    </tr>\n",
       "    <tr>\n",
       "      <th>2</th>\n",
       "      <td>-122.24</td>\n",
       "      <td>37.85</td>\n",
       "      <td>52.0</td>\n",
       "      <td>1467.0</td>\n",
       "      <td>190.0</td>\n",
       "      <td>496.0</td>\n",
       "      <td>177.0</td>\n",
       "      <td>7.2574</td>\n",
       "      <td>352100.0</td>\n",
       "      <td>NEAR BAY</td>\n",
       "    </tr>\n",
       "    <tr>\n",
       "      <th>3</th>\n",
       "      <td>-122.25</td>\n",
       "      <td>37.85</td>\n",
       "      <td>52.0</td>\n",
       "      <td>1274.0</td>\n",
       "      <td>235.0</td>\n",
       "      <td>558.0</td>\n",
       "      <td>219.0</td>\n",
       "      <td>5.6431</td>\n",
       "      <td>341300.0</td>\n",
       "      <td>NEAR BAY</td>\n",
       "    </tr>\n",
       "    <tr>\n",
       "      <th>4</th>\n",
       "      <td>-122.25</td>\n",
       "      <td>37.85</td>\n",
       "      <td>52.0</td>\n",
       "      <td>1627.0</td>\n",
       "      <td>280.0</td>\n",
       "      <td>565.0</td>\n",
       "      <td>259.0</td>\n",
       "      <td>3.8462</td>\n",
       "      <td>342200.0</td>\n",
       "      <td>NEAR BAY</td>\n",
       "    </tr>\n",
       "  </tbody>\n",
       "</table>\n",
       "</div>"
      ],
      "text/plain": [
       "   longitude  latitude  housing_median_age  total_rooms  total_bedrooms  \\\n",
       "0    -122.23     37.88                41.0        880.0           129.0   \n",
       "1    -122.22     37.86                21.0       7099.0          1106.0   \n",
       "2    -122.24     37.85                52.0       1467.0           190.0   \n",
       "3    -122.25     37.85                52.0       1274.0           235.0   \n",
       "4    -122.25     37.85                52.0       1627.0           280.0   \n",
       "\n",
       "   population  households  median_income  median_house_value ocean_proximity  \n",
       "0       322.0       126.0         8.3252            452600.0        NEAR BAY  \n",
       "1      2401.0      1138.0         8.3014            358500.0        NEAR BAY  \n",
       "2       496.0       177.0         7.2574            352100.0        NEAR BAY  \n",
       "3       558.0       219.0         5.6431            341300.0        NEAR BAY  \n",
       "4       565.0       259.0         3.8462            342200.0        NEAR BAY  "
      ]
     },
     "execution_count": 2,
     "metadata": {},
     "output_type": "execute_result"
    }
   ],
   "source": [
    "# Importing the dataset\n",
    "dataset = pd.read_csv('../input/california-housing/California housing.csv')\n",
    "dataset.head()"
   ]
  },
  {
   "cell_type": "markdown",
   "id": "paperback-central",
   "metadata": {
    "papermill": {
     "duration": 0.038574,
     "end_time": "2021-04-16T03:38:26.918220",
     "exception": false,
     "start_time": "2021-04-16T03:38:26.879646",
     "status": "completed"
    },
    "tags": []
   },
   "source": [
    "# Linear Regression"
   ]
  },
  {
   "cell_type": "code",
   "execution_count": 3,
   "id": "saving-fifth",
   "metadata": {
    "execution": {
     "iopub.execute_input": "2021-04-16T03:38:27.004749Z",
     "iopub.status.busy": "2021-04-16T03:38:27.003653Z",
     "iopub.status.idle": "2021-04-16T03:38:27.022961Z",
     "shell.execute_reply": "2021-04-16T03:38:27.023761Z"
    },
    "papermill": {
     "duration": 0.067395,
     "end_time": "2021-04-16T03:38:27.024011",
     "exception": false,
     "start_time": "2021-04-16T03:38:26.956616",
     "status": "completed"
    },
    "tags": []
   },
   "outputs": [
    {
     "name": "stdout",
     "output_type": "stream",
     "text": [
      "<class 'pandas.core.frame.DataFrame'>\n",
      "RangeIndex: 20640 entries, 0 to 20639\n",
      "Data columns (total 10 columns):\n",
      " #   Column              Non-Null Count  Dtype  \n",
      "---  ------              --------------  -----  \n",
      " 0   longitude           20640 non-null  float64\n",
      " 1   latitude            20640 non-null  float64\n",
      " 2   housing_median_age  20640 non-null  float64\n",
      " 3   total_rooms         20640 non-null  float64\n",
      " 4   total_bedrooms      20433 non-null  float64\n",
      " 5   population          20640 non-null  float64\n",
      " 6   households          20640 non-null  float64\n",
      " 7   median_income       20640 non-null  float64\n",
      " 8   median_house_value  20640 non-null  float64\n",
      " 9   ocean_proximity     20640 non-null  object \n",
      "dtypes: float64(9), object(1)\n",
      "memory usage: 1.6+ MB\n"
     ]
    }
   ],
   "source": [
    "# Information of the whole dataset\n",
    "dataset.info()"
   ]
  },
  {
   "cell_type": "code",
   "execution_count": 4,
   "id": "attempted-harvard",
   "metadata": {
    "execution": {
     "iopub.execute_input": "2021-04-16T03:38:27.108660Z",
     "iopub.status.busy": "2021-04-16T03:38:27.107943Z",
     "iopub.status.idle": "2021-04-16T03:38:29.375117Z",
     "shell.execute_reply": "2021-04-16T03:38:29.375719Z"
    },
    "papermill": {
     "duration": 2.311326,
     "end_time": "2021-04-16T03:38:29.375894",
     "exception": false,
     "start_time": "2021-04-16T03:38:27.064568",
     "status": "completed"
    },
    "tags": []
   },
   "outputs": [
    {
     "name": "stderr",
     "output_type": "stream",
     "text": [
      "/opt/conda/lib/python3.7/site-packages/pandas/plotting/_matplotlib/tools.py:400: MatplotlibDeprecationWarning: \n",
      "The is_first_col function was deprecated in Matplotlib 3.4 and will be removed two minor releases later. Use ax.get_subplotspec().is_first_col() instead.\n",
      "  if ax.is_first_col():\n"
     ]
    },
    {
     "data": {
      "image/png": "[encoded data removed]",
      "text/plain": [
       "<Figure size 1080x1440 with 9 Axes>"
      ]
     },
     "metadata": {
      "needs_background": "light"
     },
     "output_type": "display_data"
    }
   ],
   "source": [
    "# Data Visualization on the the whole dataset\n",
    "dataset.hist(bins = 50, figsize = (15,20))\n",
    "plt.show()"
   ]
  },
  {
   "cell_type": "code",
   "execution_count": 5,
   "id": "hybrid-ecuador",
   "metadata": {
    "execution": {
     "iopub.execute_input": "2021-04-16T03:38:29.466501Z",
     "iopub.status.busy": "2021-04-16T03:38:29.463675Z",
     "iopub.status.idle": "2021-04-16T03:38:29.474248Z",
     "shell.execute_reply": "2021-04-16T03:38:29.473568Z"
    },
    "papermill": {
     "duration": 0.056676,
     "end_time": "2021-04-16T03:38:29.474393",
     "exception": false,
     "start_time": "2021-04-16T03:38:29.417717",
     "status": "completed"
    },
    "tags": []
   },
   "outputs": [
    {
     "data": {
      "text/plain": [
       "longitude               0\n",
       "latitude                0\n",
       "housing_median_age      0\n",
       "total_rooms             0\n",
       "total_bedrooms        207\n",
       "population              0\n",
       "households              0\n",
       "median_income           0\n",
       "median_house_value      0\n",
       "ocean_proximity         0\n",
       "dtype: int64"
      ]
     },
     "execution_count": 5,
     "metadata": {},
     "output_type": "execute_result"
    }
   ],
   "source": [
    "# Missing values find out\n",
    "dataset.isnull().sum()"
   ]
  },
  {
   "cell_type": "code",
   "execution_count": 6,
   "id": "quiet-regulation",
   "metadata": {
    "execution": {
     "iopub.execute_input": "2021-04-16T03:38:29.581991Z",
     "iopub.status.busy": "2021-04-16T03:38:29.573665Z",
     "iopub.status.idle": "2021-04-16T03:38:29.591666Z",
     "shell.execute_reply": "2021-04-16T03:38:29.590985Z"
    },
    "papermill": {
     "duration": 0.075678,
     "end_time": "2021-04-16T03:38:29.591813",
     "exception": false,
     "start_time": "2021-04-16T03:38:29.516135",
     "status": "completed"
    },
    "tags": []
   },
   "outputs": [
    {
     "data": {
      "text/html": [
       "<div>\n",
       "<style scoped>\n",
       "    .dataframe tbody tr th:only-of-type {\n",
       "        vertical-align: middle;\n",
       "    }\n",
       "\n",
       "    .dataframe tbody tr th {\n",
       "        vertical-align: top;\n",
       "    }\n",
       "\n",
       "    .dataframe thead th {\n",
       "        text-align: right;\n",
       "    }\n",
       "</style>\n",
       "<table border=\"1\" class=\"dataframe\">\n",
       "  <thead>\n",
       "    <tr style=\"text-align: right;\">\n",
       "      <th></th>\n",
       "      <th>longitude</th>\n",
       "      <th>latitude</th>\n",
       "      <th>housing_median_age</th>\n",
       "      <th>total_rooms</th>\n",
       "      <th>total_bedrooms</th>\n",
       "      <th>population</th>\n",
       "      <th>households</th>\n",
       "      <th>median_income</th>\n",
       "      <th>median_house_value</th>\n",
       "      <th>ocean_proximity</th>\n",
       "    </tr>\n",
       "  </thead>\n",
       "  <tbody>\n",
       "    <tr>\n",
       "      <th>290</th>\n",
       "      <td>-122.16</td>\n",
       "      <td>37.77</td>\n",
       "      <td>47.0</td>\n",
       "      <td>1256.0</td>\n",
       "      <td>NaN</td>\n",
       "      <td>570.0</td>\n",
       "      <td>218.0</td>\n",
       "      <td>4.3750</td>\n",
       "      <td>161900.0</td>\n",
       "      <td>NEAR BAY</td>\n",
       "    </tr>\n",
       "    <tr>\n",
       "      <th>341</th>\n",
       "      <td>-122.17</td>\n",
       "      <td>37.75</td>\n",
       "      <td>38.0</td>\n",
       "      <td>992.0</td>\n",
       "      <td>NaN</td>\n",
       "      <td>732.0</td>\n",
       "      <td>259.0</td>\n",
       "      <td>1.6196</td>\n",
       "      <td>85100.0</td>\n",
       "      <td>NEAR BAY</td>\n",
       "    </tr>\n",
       "    <tr>\n",
       "      <th>538</th>\n",
       "      <td>-122.28</td>\n",
       "      <td>37.78</td>\n",
       "      <td>29.0</td>\n",
       "      <td>5154.0</td>\n",
       "      <td>NaN</td>\n",
       "      <td>3741.0</td>\n",
       "      <td>1273.0</td>\n",
       "      <td>2.5762</td>\n",
       "      <td>173400.0</td>\n",
       "      <td>NEAR BAY</td>\n",
       "    </tr>\n",
       "    <tr>\n",
       "      <th>563</th>\n",
       "      <td>-122.24</td>\n",
       "      <td>37.75</td>\n",
       "      <td>45.0</td>\n",
       "      <td>891.0</td>\n",
       "      <td>NaN</td>\n",
       "      <td>384.0</td>\n",
       "      <td>146.0</td>\n",
       "      <td>4.9489</td>\n",
       "      <td>247100.0</td>\n",
       "      <td>NEAR BAY</td>\n",
       "    </tr>\n",
       "    <tr>\n",
       "      <th>696</th>\n",
       "      <td>-122.10</td>\n",
       "      <td>37.69</td>\n",
       "      <td>41.0</td>\n",
       "      <td>746.0</td>\n",
       "      <td>NaN</td>\n",
       "      <td>387.0</td>\n",
       "      <td>161.0</td>\n",
       "      <td>3.9063</td>\n",
       "      <td>178400.0</td>\n",
       "      <td>NEAR BAY</td>\n",
       "    </tr>\n",
       "    <tr>\n",
       "      <th>...</th>\n",
       "      <td>...</td>\n",
       "      <td>...</td>\n",
       "      <td>...</td>\n",
       "      <td>...</td>\n",
       "      <td>...</td>\n",
       "      <td>...</td>\n",
       "      <td>...</td>\n",
       "      <td>...</td>\n",
       "      <td>...</td>\n",
       "      <td>...</td>\n",
       "    </tr>\n",
       "    <tr>\n",
       "      <th>20267</th>\n",
       "      <td>-119.19</td>\n",
       "      <td>34.20</td>\n",
       "      <td>18.0</td>\n",
       "      <td>3620.0</td>\n",
       "      <td>NaN</td>\n",
       "      <td>3171.0</td>\n",
       "      <td>779.0</td>\n",
       "      <td>3.3409</td>\n",
       "      <td>220500.0</td>\n",
       "      <td>NEAR OCEAN</td>\n",
       "    </tr>\n",
       "    <tr>\n",
       "      <th>20268</th>\n",
       "      <td>-119.18</td>\n",
       "      <td>34.19</td>\n",
       "      <td>19.0</td>\n",
       "      <td>2393.0</td>\n",
       "      <td>NaN</td>\n",
       "      <td>1938.0</td>\n",
       "      <td>762.0</td>\n",
       "      <td>1.6953</td>\n",
       "      <td>167400.0</td>\n",
       "      <td>NEAR OCEAN</td>\n",
       "    </tr>\n",
       "    <tr>\n",
       "      <th>20372</th>\n",
       "      <td>-118.88</td>\n",
       "      <td>34.17</td>\n",
       "      <td>15.0</td>\n",
       "      <td>4260.0</td>\n",
       "      <td>NaN</td>\n",
       "      <td>1701.0</td>\n",
       "      <td>669.0</td>\n",
       "      <td>5.1033</td>\n",
       "      <td>410700.0</td>\n",
       "      <td>&lt;1H OCEAN</td>\n",
       "    </tr>\n",
       "    <tr>\n",
       "      <th>20460</th>\n",
       "      <td>-118.75</td>\n",
       "      <td>34.29</td>\n",
       "      <td>17.0</td>\n",
       "      <td>5512.0</td>\n",
       "      <td>NaN</td>\n",
       "      <td>2734.0</td>\n",
       "      <td>814.0</td>\n",
       "      <td>6.6073</td>\n",
       "      <td>258100.0</td>\n",
       "      <td>&lt;1H OCEAN</td>\n",
       "    </tr>\n",
       "    <tr>\n",
       "      <th>20484</th>\n",
       "      <td>-118.72</td>\n",
       "      <td>34.28</td>\n",
       "      <td>17.0</td>\n",
       "      <td>3051.0</td>\n",
       "      <td>NaN</td>\n",
       "      <td>1705.0</td>\n",
       "      <td>495.0</td>\n",
       "      <td>5.7376</td>\n",
       "      <td>218600.0</td>\n",
       "      <td>&lt;1H OCEAN</td>\n",
       "    </tr>\n",
       "  </tbody>\n",
       "</table>\n",
       "<p>207 rows × 10 columns</p>\n",
       "</div>"
      ],
      "text/plain": [
       "       longitude  latitude  housing_median_age  total_rooms  total_bedrooms  \\\n",
       "290      -122.16     37.77                47.0       1256.0             NaN   \n",
       "341      -122.17     37.75                38.0        992.0             NaN   \n",
       "538      -122.28     37.78                29.0       5154.0             NaN   \n",
       "563      -122.24     37.75                45.0        891.0             NaN   \n",
       "696      -122.10     37.69                41.0        746.0             NaN   \n",
       "...          ...       ...                 ...          ...             ...   \n",
       "20267    -119.19     34.20                18.0       3620.0             NaN   \n",
       "20268    -119.18     34.19                19.0       2393.0             NaN   \n",
       "20372    -118.88     34.17                15.0       4260.0             NaN   \n",
       "20460    -118.75     34.29                17.0       5512.0             NaN   \n",
       "20484    -118.72     34.28                17.0       3051.0             NaN   \n",
       "\n",
       "       population  households  median_income  median_house_value  \\\n",
       "290         570.0       218.0         4.3750            161900.0   \n",
       "341         732.0       259.0         1.6196             85100.0   \n",
       "538        3741.0      1273.0         2.5762            173400.0   \n",
       "563         384.0       146.0         4.9489            247100.0   \n",
       "696         387.0       161.0         3.9063            178400.0   \n",
       "...           ...         ...            ...                 ...   \n",
       "20267      3171.0       779.0         3.3409            220500.0   \n",
       "20268      1938.0       762.0         1.6953            167400.0   \n",
       "20372      1701.0       669.0         5.1033            410700.0   \n",
       "20460      2734.0       814.0         6.6073            258100.0   \n",
       "20484      1705.0       495.0         5.7376            218600.0   \n",
       "\n",
       "      ocean_proximity  \n",
       "290          NEAR BAY  \n",
       "341          NEAR BAY  \n",
       "538          NEAR BAY  \n",
       "563          NEAR BAY  \n",
       "696          NEAR BAY  \n",
       "...               ...  \n",
       "20267      NEAR OCEAN  \n",
       "20268      NEAR OCEAN  \n",
       "20372       <1H OCEAN  \n",
       "20460       <1H OCEAN  \n",
       "20484       <1H OCEAN  \n",
       "\n",
       "[207 rows x 10 columns]"
      ]
     },
     "execution_count": 6,
     "metadata": {},
     "output_type": "execute_result"
    }
   ],
   "source": [
    "# Total null values on the \"total bedrooms\" column\n",
    "dataset[dataset['total_bedrooms'].isnull()]"
   ]
  },
  {
   "cell_type": "code",
   "execution_count": 7,
   "id": "solved-utilization",
   "metadata": {
    "execution": {
     "iopub.execute_input": "2021-04-16T03:38:29.687848Z",
     "iopub.status.busy": "2021-04-16T03:38:29.686796Z",
     "iopub.status.idle": "2021-04-16T03:38:29.731229Z",
     "shell.execute_reply": "2021-04-16T03:38:29.731753Z"
    },
    "papermill": {
     "duration": 0.096746,
     "end_time": "2021-04-16T03:38:29.731929",
     "exception": false,
     "start_time": "2021-04-16T03:38:29.635183",
     "status": "completed"
    },
    "tags": []
   },
   "outputs": [
    {
     "data": {
      "text/html": [
       "<div>\n",
       "<style scoped>\n",
       "    .dataframe tbody tr th:only-of-type {\n",
       "        vertical-align: middle;\n",
       "    }\n",
       "\n",
       "    .dataframe tbody tr th {\n",
       "        vertical-align: top;\n",
       "    }\n",
       "\n",
       "    .dataframe thead th {\n",
       "        text-align: right;\n",
       "    }\n",
       "</style>\n",
       "<table border=\"1\" class=\"dataframe\">\n",
       "  <thead>\n",
       "    <tr style=\"text-align: right;\">\n",
       "      <th></th>\n",
       "      <th>longitude</th>\n",
       "      <th>latitude</th>\n",
       "      <th>housing_median_age</th>\n",
       "      <th>total_rooms</th>\n",
       "      <th>total_bedrooms</th>\n",
       "      <th>population</th>\n",
       "      <th>households</th>\n",
       "      <th>median_income</th>\n",
       "      <th>median_house_value</th>\n",
       "    </tr>\n",
       "  </thead>\n",
       "  <tbody>\n",
       "    <tr>\n",
       "      <th>count</th>\n",
       "      <td>20640.000000</td>\n",
       "      <td>20640.000000</td>\n",
       "      <td>20640.000000</td>\n",
       "      <td>20640.000000</td>\n",
       "      <td>20433.000000</td>\n",
       "      <td>20640.000000</td>\n",
       "      <td>20640.000000</td>\n",
       "      <td>20640.000000</td>\n",
       "      <td>20640.000000</td>\n",
       "    </tr>\n",
       "    <tr>\n",
       "      <th>mean</th>\n",
       "      <td>-119.569704</td>\n",
       "      <td>35.631861</td>\n",
       "      <td>28.639486</td>\n",
       "      <td>2635.763081</td>\n",
       "      <td>537.870553</td>\n",
       "      <td>1425.476744</td>\n",
       "      <td>499.539680</td>\n",
       "      <td>3.870671</td>\n",
       "      <td>206855.816909</td>\n",
       "    </tr>\n",
       "    <tr>\n",
       "      <th>std</th>\n",
       "      <td>2.003532</td>\n",
       "      <td>2.135952</td>\n",
       "      <td>12.585558</td>\n",
       "      <td>2181.615252</td>\n",
       "      <td>421.385070</td>\n",
       "      <td>1132.462122</td>\n",
       "      <td>382.329753</td>\n",
       "      <td>1.899822</td>\n",
       "      <td>115395.615874</td>\n",
       "    </tr>\n",
       "    <tr>\n",
       "      <th>min</th>\n",
       "      <td>-124.350000</td>\n",
       "      <td>32.540000</td>\n",
       "      <td>1.000000</td>\n",
       "      <td>2.000000</td>\n",
       "      <td>1.000000</td>\n",
       "      <td>3.000000</td>\n",
       "      <td>1.000000</td>\n",
       "      <td>0.499900</td>\n",
       "      <td>14999.000000</td>\n",
       "    </tr>\n",
       "    <tr>\n",
       "      <th>25%</th>\n",
       "      <td>-121.800000</td>\n",
       "      <td>33.930000</td>\n",
       "      <td>18.000000</td>\n",
       "      <td>1447.750000</td>\n",
       "      <td>296.000000</td>\n",
       "      <td>787.000000</td>\n",
       "      <td>280.000000</td>\n",
       "      <td>2.563400</td>\n",
       "      <td>119600.000000</td>\n",
       "    </tr>\n",
       "    <tr>\n",
       "      <th>50%</th>\n",
       "      <td>-118.490000</td>\n",
       "      <td>34.260000</td>\n",
       "      <td>29.000000</td>\n",
       "      <td>2127.000000</td>\n",
       "      <td>435.000000</td>\n",
       "      <td>1166.000000</td>\n",
       "      <td>409.000000</td>\n",
       "      <td>3.534800</td>\n",
       "      <td>179700.000000</td>\n",
       "    </tr>\n",
       "    <tr>\n",
       "      <th>75%</th>\n",
       "      <td>-118.010000</td>\n",
       "      <td>37.710000</td>\n",
       "      <td>37.000000</td>\n",
       "      <td>3148.000000</td>\n",
       "      <td>647.000000</td>\n",
       "      <td>1725.000000</td>\n",
       "      <td>605.000000</td>\n",
       "      <td>4.743250</td>\n",
       "      <td>264725.000000</td>\n",
       "    </tr>\n",
       "    <tr>\n",
       "      <th>max</th>\n",
       "      <td>-114.310000</td>\n",
       "      <td>41.950000</td>\n",
       "      <td>52.000000</td>\n",
       "      <td>39320.000000</td>\n",
       "      <td>6445.000000</td>\n",
       "      <td>35682.000000</td>\n",
       "      <td>6082.000000</td>\n",
       "      <td>15.000100</td>\n",
       "      <td>500001.000000</td>\n",
       "    </tr>\n",
       "  </tbody>\n",
       "</table>\n",
       "</div>"
      ],
      "text/plain": [
       "          longitude      latitude  housing_median_age   total_rooms  \\\n",
       "count  20640.000000  20640.000000        20640.000000  20640.000000   \n",
       "mean    -119.569704     35.631861           28.639486   2635.763081   \n",
       "std        2.003532      2.135952           12.585558   2181.615252   \n",
       "min     -124.350000     32.540000            1.000000      2.000000   \n",
       "25%     -121.800000     33.930000           18.000000   1447.750000   \n",
       "50%     -118.490000     34.260000           29.000000   2127.000000   \n",
       "75%     -118.010000     37.710000           37.000000   3148.000000   \n",
       "max     -114.310000     41.950000           52.000000  39320.000000   \n",
       "\n",
       "       total_bedrooms    population    households  median_income  \\\n",
       "count    20433.000000  20640.000000  20640.000000   20640.000000   \n",
       "mean       537.870553   1425.476744    499.539680       3.870671   \n",
       "std        421.385070   1132.462122    382.329753       1.899822   \n",
       "min          1.000000      3.000000      1.000000       0.499900   \n",
       "25%        296.000000    787.000000    280.000000       2.563400   \n",
       "50%        435.000000   1166.000000    409.000000       3.534800   \n",
       "75%        647.000000   1725.000000    605.000000       4.743250   \n",
       "max       6445.000000  35682.000000   6082.000000      15.000100   \n",
       "\n",
       "       median_house_value  \n",
       "count        20640.000000  \n",
       "mean        206855.816909  \n",
       "std         115395.615874  \n",
       "min          14999.000000  \n",
       "25%         119600.000000  \n",
       "50%         179700.000000  \n",
       "75%         264725.000000  \n",
       "max         500001.000000  "
      ]
     },
     "execution_count": 7,
     "metadata": {},
     "output_type": "execute_result"
    }
   ],
   "source": [
    "# Describing the whole dataset\n",
    "dataset.describe()"
   ]
  },
  {
   "cell_type": "code",
   "execution_count": 8,
   "id": "painted-enemy",
   "metadata": {
    "execution": {
     "iopub.execute_input": "2021-04-16T03:38:29.824365Z",
     "iopub.status.busy": "2021-04-16T03:38:29.823563Z",
     "iopub.status.idle": "2021-04-16T03:38:29.828022Z",
     "shell.execute_reply": "2021-04-16T03:38:29.827418Z"
    },
    "papermill": {
     "duration": 0.053335,
     "end_time": "2021-04-16T03:38:29.828275",
     "exception": false,
     "start_time": "2021-04-16T03:38:29.774940",
     "status": "completed"
    },
    "tags": []
   },
   "outputs": [],
   "source": [
    "# Data Preprocessing\n",
    "dataset['total_rooms'].mean()\n",
    "dataset['total_bedrooms'].median()\n",
    "dataset['total_bedrooms'].fillna(dataset['total_bedrooms'].median(), inplace = True)"
   ]
  },
  {
   "cell_type": "code",
   "execution_count": 9,
   "id": "secondary-montgomery",
   "metadata": {
    "execution": {
     "iopub.execute_input": "2021-04-16T03:38:29.919599Z",
     "iopub.status.busy": "2021-04-16T03:38:29.918934Z",
     "iopub.status.idle": "2021-04-16T03:38:29.930251Z",
     "shell.execute_reply": "2021-04-16T03:38:29.930746Z"
    },
    "papermill": {
     "duration": 0.059578,
     "end_time": "2021-04-16T03:38:29.930944",
     "exception": false,
     "start_time": "2021-04-16T03:38:29.871366",
     "status": "completed"
    },
    "tags": []
   },
   "outputs": [
    {
     "data": {
      "text/plain": [
       "longitude             0\n",
       "latitude              0\n",
       "housing_median_age    0\n",
       "total_rooms           0\n",
       "total_bedrooms        0\n",
       "population            0\n",
       "households            0\n",
       "median_income         0\n",
       "median_house_value    0\n",
       "ocean_proximity       0\n",
       "dtype: int64"
      ]
     },
     "execution_count": 9,
     "metadata": {},
     "output_type": "execute_result"
    }
   ],
   "source": [
    "# After caring Showing the null values\n",
    "dataset.isnull().sum()"
   ]
  },
  {
   "cell_type": "code",
   "execution_count": 10,
   "id": "infectious-decimal",
   "metadata": {
    "execution": {
     "iopub.execute_input": "2021-04-16T03:38:30.023075Z",
     "iopub.status.busy": "2021-04-16T03:38:30.022354Z",
     "iopub.status.idle": "2021-04-16T03:38:30.033933Z",
     "shell.execute_reply": "2021-04-16T03:38:30.033360Z"
    },
    "papermill": {
     "duration": 0.05901,
     "end_time": "2021-04-16T03:38:30.034204",
     "exception": false,
     "start_time": "2021-04-16T03:38:29.975194",
     "status": "completed"
    },
    "tags": []
   },
   "outputs": [
    {
     "data": {
      "text/html": [
       "<div>\n",
       "<style scoped>\n",
       "    .dataframe tbody tr th:only-of-type {\n",
       "        vertical-align: middle;\n",
       "    }\n",
       "\n",
       "    .dataframe tbody tr th {\n",
       "        vertical-align: top;\n",
       "    }\n",
       "\n",
       "    .dataframe thead th {\n",
       "        text-align: right;\n",
       "    }\n",
       "</style>\n",
       "<table border=\"1\" class=\"dataframe\">\n",
       "  <thead>\n",
       "    <tr style=\"text-align: right;\">\n",
       "      <th></th>\n",
       "      <th>longitude</th>\n",
       "      <th>latitude</th>\n",
       "      <th>housing_median_age</th>\n",
       "      <th>total_rooms</th>\n",
       "      <th>total_bedrooms</th>\n",
       "      <th>population</th>\n",
       "      <th>households</th>\n",
       "      <th>median_income</th>\n",
       "      <th>median_house_value</th>\n",
       "      <th>ocean_proximity</th>\n",
       "    </tr>\n",
       "  </thead>\n",
       "  <tbody>\n",
       "  </tbody>\n",
       "</table>\n",
       "</div>"
      ],
      "text/plain": [
       "Empty DataFrame\n",
       "Columns: [longitude, latitude, housing_median_age, total_rooms, total_bedrooms, population, households, median_income, median_house_value, ocean_proximity]\n",
       "Index: []"
      ]
     },
     "execution_count": 10,
     "metadata": {},
     "output_type": "execute_result"
    }
   ],
   "source": [
    "# After caring the total null values on the \"total bedrooms\" column\n",
    "dataset[dataset['total_bedrooms'].isnull()]"
   ]
  },
  {
   "cell_type": "code",
   "execution_count": 11,
   "id": "continental-examination",
   "metadata": {
    "execution": {
     "iopub.execute_input": "2021-04-16T03:38:30.134092Z",
     "iopub.status.busy": "2021-04-16T03:38:30.133309Z",
     "iopub.status.idle": "2021-04-16T03:38:30.145729Z",
     "shell.execute_reply": "2021-04-16T03:38:30.146257Z"
    },
    "papermill": {
     "duration": 0.067394,
     "end_time": "2021-04-16T03:38:30.146455",
     "exception": false,
     "start_time": "2021-04-16T03:38:30.079061",
     "status": "completed"
    },
    "tags": []
   },
   "outputs": [
    {
     "name": "stdout",
     "output_type": "stream",
     "text": [
      "<class 'pandas.core.frame.DataFrame'>\n",
      "RangeIndex: 20640 entries, 0 to 20639\n",
      "Data columns (total 10 columns):\n",
      " #   Column              Non-Null Count  Dtype  \n",
      "---  ------              --------------  -----  \n",
      " 0   longitude           20640 non-null  float64\n",
      " 1   latitude            20640 non-null  float64\n",
      " 2   housing_median_age  20640 non-null  float64\n",
      " 3   total_rooms         20640 non-null  float64\n",
      " 4   total_bedrooms      20640 non-null  float64\n",
      " 5   population          20640 non-null  float64\n",
      " 6   households          20640 non-null  float64\n",
      " 7   median_income       20640 non-null  float64\n",
      " 8   median_house_value  20640 non-null  float64\n",
      " 9   ocean_proximity     20640 non-null  object \n",
      "dtypes: float64(9), object(1)\n",
      "memory usage: 1.6+ MB\n"
     ]
    }
   ],
   "source": [
    "# After caring the whole dataset information\n",
    "dataset.info()"
   ]
  },
  {
   "cell_type": "code",
   "execution_count": 12,
   "id": "convinced-rehabilitation",
   "metadata": {
    "execution": {
     "iopub.execute_input": "2021-04-16T03:38:30.240962Z",
     "iopub.status.busy": "2021-04-16T03:38:30.240210Z",
     "iopub.status.idle": "2021-04-16T03:38:30.254063Z",
     "shell.execute_reply": "2021-04-16T03:38:30.253450Z"
    },
    "papermill": {
     "duration": 0.062488,
     "end_time": "2021-04-16T03:38:30.254206",
     "exception": false,
     "start_time": "2021-04-16T03:38:30.191718",
     "status": "completed"
    },
    "tags": []
   },
   "outputs": [
    {
     "data": {
      "text/plain": [
       "<1H OCEAN     9136\n",
       "INLAND        6551\n",
       "NEAR OCEAN    2658\n",
       "NEAR BAY      2290\n",
       "ISLAND           5\n",
       "Name: ocean_proximity, dtype: int64"
      ]
     },
     "execution_count": 12,
     "metadata": {},
     "output_type": "execute_result"
    }
   ],
   "source": [
    "# Counting the \"ocean proximity\" \n",
    "counts = dataset['ocean_proximity'].value_counts()\n",
    "counts"
   ]
  },
  {
   "cell_type": "code",
   "execution_count": 13,
   "id": "polar-homework",
   "metadata": {
    "execution": {
     "iopub.execute_input": "2021-04-16T03:38:30.373013Z",
     "iopub.status.busy": "2021-04-16T03:38:30.372236Z",
     "iopub.status.idle": "2021-04-16T03:38:30.375731Z",
     "shell.execute_reply": "2021-04-16T03:38:30.376181Z"
    },
    "papermill": {
     "duration": 0.076941,
     "end_time": "2021-04-16T03:38:30.376354",
     "exception": false,
     "start_time": "2021-04-16T03:38:30.299413",
     "status": "completed"
    },
    "tags": []
   },
   "outputs": [
    {
     "data": {
      "text/html": [
       "<div>\n",
       "<style scoped>\n",
       "    .dataframe tbody tr th:only-of-type {\n",
       "        vertical-align: middle;\n",
       "    }\n",
       "\n",
       "    .dataframe tbody tr th {\n",
       "        vertical-align: top;\n",
       "    }\n",
       "\n",
       "    .dataframe thead th {\n",
       "        text-align: right;\n",
       "    }\n",
       "</style>\n",
       "<table border=\"1\" class=\"dataframe\">\n",
       "  <thead>\n",
       "    <tr style=\"text-align: right;\">\n",
       "      <th></th>\n",
       "      <th>longitude</th>\n",
       "      <th>latitude</th>\n",
       "      <th>housing_median_age</th>\n",
       "      <th>total_rooms</th>\n",
       "      <th>total_bedrooms</th>\n",
       "      <th>population</th>\n",
       "      <th>households</th>\n",
       "      <th>median_income</th>\n",
       "      <th>median_house_value</th>\n",
       "      <th>ocean_proximity</th>\n",
       "    </tr>\n",
       "  </thead>\n",
       "  <tbody>\n",
       "    <tr>\n",
       "      <th>0</th>\n",
       "      <td>-122.23</td>\n",
       "      <td>37.88</td>\n",
       "      <td>41.0</td>\n",
       "      <td>880.0</td>\n",
       "      <td>129.0</td>\n",
       "      <td>322.0</td>\n",
       "      <td>126.0</td>\n",
       "      <td>8.3252</td>\n",
       "      <td>452600.0</td>\n",
       "      <td>3</td>\n",
       "    </tr>\n",
       "    <tr>\n",
       "      <th>1</th>\n",
       "      <td>-122.22</td>\n",
       "      <td>37.86</td>\n",
       "      <td>21.0</td>\n",
       "      <td>7099.0</td>\n",
       "      <td>1106.0</td>\n",
       "      <td>2401.0</td>\n",
       "      <td>1138.0</td>\n",
       "      <td>8.3014</td>\n",
       "      <td>358500.0</td>\n",
       "      <td>3</td>\n",
       "    </tr>\n",
       "    <tr>\n",
       "      <th>2</th>\n",
       "      <td>-122.24</td>\n",
       "      <td>37.85</td>\n",
       "      <td>52.0</td>\n",
       "      <td>1467.0</td>\n",
       "      <td>190.0</td>\n",
       "      <td>496.0</td>\n",
       "      <td>177.0</td>\n",
       "      <td>7.2574</td>\n",
       "      <td>352100.0</td>\n",
       "      <td>3</td>\n",
       "    </tr>\n",
       "    <tr>\n",
       "      <th>3</th>\n",
       "      <td>-122.25</td>\n",
       "      <td>37.85</td>\n",
       "      <td>52.0</td>\n",
       "      <td>1274.0</td>\n",
       "      <td>235.0</td>\n",
       "      <td>558.0</td>\n",
       "      <td>219.0</td>\n",
       "      <td>5.6431</td>\n",
       "      <td>341300.0</td>\n",
       "      <td>3</td>\n",
       "    </tr>\n",
       "    <tr>\n",
       "      <th>4</th>\n",
       "      <td>-122.25</td>\n",
       "      <td>37.85</td>\n",
       "      <td>52.0</td>\n",
       "      <td>1627.0</td>\n",
       "      <td>280.0</td>\n",
       "      <td>565.0</td>\n",
       "      <td>259.0</td>\n",
       "      <td>3.8462</td>\n",
       "      <td>342200.0</td>\n",
       "      <td>3</td>\n",
       "    </tr>\n",
       "  </tbody>\n",
       "</table>\n",
       "</div>"
      ],
      "text/plain": [
       "   longitude  latitude  housing_median_age  total_rooms  total_bedrooms  \\\n",
       "0    -122.23     37.88                41.0        880.0           129.0   \n",
       "1    -122.22     37.86                21.0       7099.0          1106.0   \n",
       "2    -122.24     37.85                52.0       1467.0           190.0   \n",
       "3    -122.25     37.85                52.0       1274.0           235.0   \n",
       "4    -122.25     37.85                52.0       1627.0           280.0   \n",
       "\n",
       "   population  households  median_income  median_house_value  ocean_proximity  \n",
       "0       322.0       126.0         8.3252            452600.0                3  \n",
       "1      2401.0      1138.0         8.3014            358500.0                3  \n",
       "2       496.0       177.0         7.2574            352100.0                3  \n",
       "3       558.0       219.0         5.6431            341300.0                3  \n",
       "4       565.0       259.0         3.8462            342200.0                3  "
      ]
     },
     "execution_count": 13,
     "metadata": {},
     "output_type": "execute_result"
    }
   ],
   "source": [
    "# Dealing with the \"ocean proximity\" column\n",
    "enc = preprocessing.LabelEncoder()\n",
    "dataset['ocean_proximity'] = enc.fit_transform(dataset['ocean_proximity'])\n",
    "dataset['ocean_proximity'].value_counts\n",
    "dataset.head()"
   ]
  },
  {
   "cell_type": "code",
   "execution_count": 14,
   "id": "offensive-battlefield",
   "metadata": {
    "execution": {
     "iopub.execute_input": "2021-04-16T03:38:30.472052Z",
     "iopub.status.busy": "2021-04-16T03:38:30.471337Z",
     "iopub.status.idle": "2021-04-16T03:38:30.478423Z",
     "shell.execute_reply": "2021-04-16T03:38:30.478941Z"
    },
    "papermill": {
     "duration": 0.056775,
     "end_time": "2021-04-16T03:38:30.479129",
     "exception": false,
     "start_time": "2021-04-16T03:38:30.422354",
     "status": "completed"
    },
    "tags": []
   },
   "outputs": [],
   "source": [
    "# Data selecion in the dataset\n",
    "X = dataset.drop('median_house_value', axis=1).values\n",
    "y = dataset['median_house_value'].values"
   ]
  },
  {
   "cell_type": "code",
   "execution_count": 15,
   "id": "intermediate-crack",
   "metadata": {
    "execution": {
     "iopub.execute_input": "2021-04-16T03:38:30.575538Z",
     "iopub.status.busy": "2021-04-16T03:38:30.574805Z",
     "iopub.status.idle": "2021-04-16T03:38:30.585191Z",
     "shell.execute_reply": "2021-04-16T03:38:30.585702Z"
    },
    "papermill": {
     "duration": 0.06057,
     "end_time": "2021-04-16T03:38:30.585905",
     "exception": false,
     "start_time": "2021-04-16T03:38:30.525335",
     "status": "completed"
    },
    "tags": []
   },
   "outputs": [
    {
     "data": {
      "text/plain": [
       "1.0"
      ]
     },
     "execution_count": 15,
     "metadata": {},
     "output_type": "execute_result"
    }
   ],
   "source": [
    "# Data scaling on the 'X'\n",
    "scaler = preprocessing.StandardScaler()\n",
    "X = scaler.fit_transform(X)\n",
    "X.std()"
   ]
  },
  {
   "cell_type": "code",
   "execution_count": 16,
   "id": "answering-fruit",
   "metadata": {
    "execution": {
     "iopub.execute_input": "2021-04-16T03:38:30.684732Z",
     "iopub.status.busy": "2021-04-16T03:38:30.683980Z",
     "iopub.status.idle": "2021-04-16T03:38:30.692239Z",
     "shell.execute_reply": "2021-04-16T03:38:30.692762Z"
    },
    "papermill": {
     "duration": 0.05892,
     "end_time": "2021-04-16T03:38:30.692953",
     "exception": false,
     "start_time": "2021-04-16T03:38:30.634033",
     "status": "completed"
    },
    "tags": []
   },
   "outputs": [],
   "source": [
    "# Splitting the dataset into the Training set and Test set\n",
    "X_train, X_test, y_train, y_test = train_test_split(X,y,test_size=0.2,random_state = 42)"
   ]
  },
  {
   "cell_type": "code",
   "execution_count": 17,
   "id": "rough-option",
   "metadata": {
    "execution": {
     "iopub.execute_input": "2021-04-16T03:38:30.793808Z",
     "iopub.status.busy": "2021-04-16T03:38:30.793117Z",
     "iopub.status.idle": "2021-04-16T03:38:30.823048Z",
     "shell.execute_reply": "2021-04-16T03:38:30.823631Z"
    },
    "papermill": {
     "duration": 0.082991,
     "end_time": "2021-04-16T03:38:30.823815",
     "exception": false,
     "start_time": "2021-04-16T03:38:30.740824",
     "status": "completed"
    },
    "tags": []
   },
   "outputs": [
    {
     "data": {
      "text/plain": [
       "LinearRegression()"
      ]
     },
     "execution_count": 17,
     "metadata": {},
     "output_type": "execute_result"
    }
   ],
   "source": [
    "# Training the Linear Regression model on the Training set\n",
    "regressor = LinearRegression()\n",
    "regressor.fit(X_train, y_train)"
   ]
  },
  {
   "cell_type": "code",
   "execution_count": 18,
   "id": "rough-salon",
   "metadata": {
    "execution": {
     "iopub.execute_input": "2021-04-16T03:38:30.923302Z",
     "iopub.status.busy": "2021-04-16T03:38:30.922433Z",
     "iopub.status.idle": "2021-04-16T03:38:30.937905Z",
     "shell.execute_reply": "2021-04-16T03:38:30.938969Z"
    },
    "papermill": {
     "duration": 0.067816,
     "end_time": "2021-04-16T03:38:30.939238",
     "exception": false,
     "start_time": "2021-04-16T03:38:30.871422",
     "status": "completed"
    },
    "tags": []
   },
   "outputs": [
    {
     "data": {
      "text/plain": [
       "0.6401079709888613"
      ]
     },
     "execution_count": 18,
     "metadata": {},
     "output_type": "execute_result"
    }
   ],
   "source": [
    "# accuracy the regression\n",
    "regressor.score(X_train, y_train)"
   ]
  },
  {
   "cell_type": "code",
   "execution_count": 19,
   "id": "casual-parker",
   "metadata": {
    "execution": {
     "iopub.execute_input": "2021-04-16T03:38:31.089352Z",
     "iopub.status.busy": "2021-04-16T03:38:31.088381Z",
     "iopub.status.idle": "2021-04-16T03:38:31.093180Z",
     "shell.execute_reply": "2021-04-16T03:38:31.092404Z"
    },
    "papermill": {
     "duration": 0.068254,
     "end_time": "2021-04-16T03:38:31.093329",
     "exception": false,
     "start_time": "2021-04-16T03:38:31.025075",
     "status": "completed"
    },
    "tags": []
   },
   "outputs": [
    {
     "data": {
      "text/plain": [
       "array([ 47700.,  45800., 500001., ..., 500001.,  72300., 151500.])"
      ]
     },
     "execution_count": 19,
     "metadata": {},
     "output_type": "execute_result"
    }
   ],
   "source": [
    "# Test set results\n",
    "y_test"
   ]
  },
  {
   "cell_type": "code",
   "execution_count": 20,
   "id": "activated-allah",
   "metadata": {
    "execution": {
     "iopub.execute_input": "2021-04-16T03:38:31.193107Z",
     "iopub.status.busy": "2021-04-16T03:38:31.192395Z",
     "iopub.status.idle": "2021-04-16T03:38:31.199945Z",
     "shell.execute_reply": "2021-04-16T03:38:31.200974Z"
    },
    "papermill": {
     "duration": 0.059936,
     "end_time": "2021-04-16T03:38:31.201265",
     "exception": false,
     "start_time": "2021-04-16T03:38:31.141329",
     "status": "completed"
    },
    "tags": []
   },
   "outputs": [
    {
     "data": {
      "text/plain": [
       "array([ 63642.8756283 , 154445.82484211, 252777.76132135, ...,\n",
       "       439690.1127737 , 130408.05181885, 175513.56755484])"
      ]
     },
     "execution_count": 20,
     "metadata": {},
     "output_type": "execute_result"
    }
   ],
   "source": [
    "# Predicting the Test set results\n",
    "y_pred = regressor.predict(X_test)\n",
    "y_pred"
   ]
  },
  {
   "cell_type": "code",
   "execution_count": null,
   "id": "analyzed-release",
   "metadata": {
    "papermill": {
     "duration": 0.060563,
     "end_time": "2021-04-16T03:38:31.348950",
     "exception": false,
     "start_time": "2021-04-16T03:38:31.288387",
     "status": "completed"
    },
    "tags": []
   },
   "outputs": [],
   "source": []
  },
  {
   "cell_type": "markdown",
   "id": "specified-tournament",
   "metadata": {
    "papermill": {
     "duration": 0.04838,
     "end_time": "2021-04-16T03:38:31.446274",
     "exception": false,
     "start_time": "2021-04-16T03:38:31.397894",
     "status": "completed"
    },
    "tags": []
   },
   "source": [
    "# K- Nearest Neighbors Regressor"
   ]
  },
  {
   "cell_type": "code",
   "execution_count": 21,
   "id": "choice-mapping",
   "metadata": {
    "execution": {
     "iopub.execute_input": "2021-04-16T03:38:31.550508Z",
     "iopub.status.busy": "2021-04-16T03:38:31.549522Z",
     "iopub.status.idle": "2021-04-16T03:38:31.553440Z",
     "shell.execute_reply": "2021-04-16T03:38:31.554119Z"
    },
    "papermill": {
     "duration": 0.059277,
     "end_time": "2021-04-16T03:38:31.554303",
     "exception": false,
     "start_time": "2021-04-16T03:38:31.495026",
     "status": "completed"
    },
    "tags": []
   },
   "outputs": [
    {
     "data": {
      "text/plain": [
       "{'n_neighbors': [9], 'weights': ['distance'], 'p': [1]}"
      ]
     },
     "execution_count": 21,
     "metadata": {},
     "output_type": "execute_result"
    }
   ],
   "source": [
    "# Creating K-Nearest Neighbors environment\n",
    "params = {\n",
    "    'n_neighbors': [9],  \n",
    "    'weights': ['distance'],  \n",
    "    'p': [1]   \n",
    "    }\n",
    "params"
   ]
  },
  {
   "cell_type": "code",
   "execution_count": 22,
   "id": "smaller-finland",
   "metadata": {
    "execution": {
     "iopub.execute_input": "2021-04-16T03:38:31.658742Z",
     "iopub.status.busy": "2021-04-16T03:38:31.657736Z",
     "iopub.status.idle": "2021-04-16T03:38:34.098853Z",
     "shell.execute_reply": "2021-04-16T03:38:34.098278Z"
    },
    "papermill": {
     "duration": 2.493783,
     "end_time": "2021-04-16T03:38:34.099010",
     "exception": false,
     "start_time": "2021-04-16T03:38:31.605227",
     "status": "completed"
    },
    "tags": []
   },
   "outputs": [
    {
     "data": {
      "text/plain": [
       "GridSearchCV(cv=10, estimator=KNeighborsRegressor(), n_jobs=-1,\n",
       "             param_grid={'n_neighbors': [9], 'p': [1], 'weights': ['distance']},\n",
       "             scoring='neg_mean_squared_error')"
      ]
     },
     "execution_count": 22,
     "metadata": {},
     "output_type": "execute_result"
    }
   ],
   "source": [
    "# Importing the K-NN model\n",
    "knn = KNeighborsRegressor()\n",
    "rs = GridSearchCV(estimator=knn, param_grid=params, cv=10, n_jobs=-1, scoring='neg_mean_squared_error')\n",
    "rs.fit(X_train, y_train)"
   ]
  },
  {
   "cell_type": "code",
   "execution_count": 23,
   "id": "guilty-journalism",
   "metadata": {
    "execution": {
     "iopub.execute_input": "2021-04-16T03:38:34.206736Z",
     "iopub.status.busy": "2021-04-16T03:38:34.206047Z",
     "iopub.status.idle": "2021-04-16T03:38:34.209120Z",
     "shell.execute_reply": "2021-04-16T03:38:34.209679Z"
    },
    "papermill": {
     "duration": 0.060317,
     "end_time": "2021-04-16T03:38:34.209852",
     "exception": false,
     "start_time": "2021-04-16T03:38:34.149535",
     "status": "completed"
    },
    "tags": []
   },
   "outputs": [
    {
     "data": {
      "text/plain": [
       "KNeighborsRegressor(n_neighbors=9, p=1, weights='distance')"
      ]
     },
     "execution_count": 23,
     "metadata": {},
     "output_type": "execute_result"
    }
   ],
   "source": [
    "rs.best_estimator_"
   ]
  },
  {
   "cell_type": "code",
   "execution_count": 24,
   "id": "urban-november",
   "metadata": {
    "execution": {
     "iopub.execute_input": "2021-04-16T03:38:34.313799Z",
     "iopub.status.busy": "2021-04-16T03:38:34.313130Z",
     "iopub.status.idle": "2021-04-16T03:38:34.320577Z",
     "shell.execute_reply": "2021-04-16T03:38:34.319923Z"
    },
    "papermill": {
     "duration": 0.060604,
     "end_time": "2021-04-16T03:38:34.320732",
     "exception": false,
     "start_time": "2021-04-16T03:38:34.260128",
     "status": "completed"
    },
    "tags": []
   },
   "outputs": [
    {
     "data": {
      "text/plain": [
       "datetime.datetime(2021, 4, 16, 3, 38, 34, 313783)"
      ]
     },
     "execution_count": 24,
     "metadata": {},
     "output_type": "execute_result"
    }
   ],
   "source": [
    "# Importing the Time explorer module\n",
    "knn = rs.best_estimator_\n",
    "start = datetime.now()\n",
    "start"
   ]
  },
  {
   "cell_type": "code",
   "execution_count": 25,
   "id": "french-ferry",
   "metadata": {
    "execution": {
     "iopub.execute_input": "2021-04-16T03:38:34.427180Z",
     "iopub.status.busy": "2021-04-16T03:38:34.426395Z",
     "iopub.status.idle": "2021-04-16T03:38:34.454323Z",
     "shell.execute_reply": "2021-04-16T03:38:34.454844Z"
    },
    "papermill": {
     "duration": 0.084056,
     "end_time": "2021-04-16T03:38:34.455063",
     "exception": false,
     "start_time": "2021-04-16T03:38:34.371007",
     "status": "completed"
    },
    "tags": []
   },
   "outputs": [
    {
     "data": {
      "text/plain": [
       "KNeighborsRegressor(n_neighbors=9, p=1, weights='distance')"
      ]
     },
     "execution_count": 25,
     "metadata": {},
     "output_type": "execute_result"
    }
   ],
   "source": [
    "# Training the K-NN model on the Training set\n",
    "knn.fit(X_train, y_train)"
   ]
  },
  {
   "cell_type": "code",
   "execution_count": 26,
   "id": "flexible-black",
   "metadata": {
    "execution": {
     "iopub.execute_input": "2021-04-16T03:38:34.564494Z",
     "iopub.status.busy": "2021-04-16T03:38:34.563561Z",
     "iopub.status.idle": "2021-04-16T03:38:34.818766Z",
     "shell.execute_reply": "2021-04-16T03:38:34.819305Z"
    },
    "papermill": {
     "duration": 0.31349,
     "end_time": "2021-04-16T03:38:34.819497",
     "exception": false,
     "start_time": "2021-04-16T03:38:34.506007",
     "status": "completed"
    },
    "tags": []
   },
   "outputs": [
    {
     "data": {
      "text/plain": [
       "array([ 51040.93799286,  66678.85967199, 411455.23416212, ...,\n",
       "       455558.93491623,  73201.88495513, 184762.2797947 ])"
      ]
     },
     "execution_count": 26,
     "metadata": {},
     "output_type": "execute_result"
    }
   ],
   "source": [
    "# Predicting the K-NN model on the Test set\n",
    "y_pred = knn.predict(X_test)\n",
    "y_pred"
   ]
  },
  {
   "cell_type": "code",
   "execution_count": 27,
   "id": "fatal-chinese",
   "metadata": {
    "execution": {
     "iopub.execute_input": "2021-04-16T03:38:34.925992Z",
     "iopub.status.busy": "2021-04-16T03:38:34.925202Z",
     "iopub.status.idle": "2021-04-16T03:38:34.931813Z",
     "shell.execute_reply": "2021-04-16T03:38:34.931264Z"
    },
    "papermill": {
     "duration": 0.061043,
     "end_time": "2021-04-16T03:38:34.931950",
     "exception": false,
     "start_time": "2021-04-16T03:38:34.870907",
     "status": "completed"
    },
    "tags": []
   },
   "outputs": [
    {
     "data": {
      "text/plain": [
       "datetime.timedelta(microseconds=612033)"
      ]
     },
     "execution_count": 27,
     "metadata": {},
     "output_type": "execute_result"
    }
   ],
   "source": [
    "# The amount of time spent\n",
    "stop = datetime.now()\n",
    "delta = stop - start\n",
    "delta"
   ]
  },
  {
   "cell_type": "code",
   "execution_count": 28,
   "id": "miniature-transfer",
   "metadata": {
    "execution": {
     "iopub.execute_input": "2021-04-16T03:38:35.044368Z",
     "iopub.status.busy": "2021-04-16T03:38:35.043221Z",
     "iopub.status.idle": "2021-04-16T03:38:35.049224Z",
     "shell.execute_reply": "2021-04-16T03:38:35.048618Z"
    },
    "papermill": {
     "duration": 0.064423,
     "end_time": "2021-04-16T03:38:35.049371",
     "exception": false,
     "start_time": "2021-04-16T03:38:34.984948",
     "status": "completed"
    },
    "tags": []
   },
   "outputs": [
    {
     "data": {
      "text/plain": [
       "0.7420932072260709"
      ]
     },
     "execution_count": 28,
     "metadata": {},
     "output_type": "execute_result"
    }
   ],
   "source": [
    "# Accuracy of the K-NN model \n",
    "accuracy = r2_score(y_test, y_pred)\n",
    "accuracy"
   ]
  },
  {
   "cell_type": "code",
   "execution_count": 29,
   "id": "educational-clearing",
   "metadata": {
    "execution": {
     "iopub.execute_input": "2021-04-16T03:38:35.161257Z",
     "iopub.status.busy": "2021-04-16T03:38:35.160413Z",
     "iopub.status.idle": "2021-04-16T03:38:35.165986Z",
     "shell.execute_reply": "2021-04-16T03:38:35.165386Z"
    },
    "papermill": {
     "duration": 0.063432,
     "end_time": "2021-04-16T03:38:35.166130",
     "exception": false,
     "start_time": "2021-04-16T03:38:35.102698",
     "status": "completed"
    },
    "tags": []
   },
   "outputs": [
    {
     "data": {
      "text/plain": [
       "58134.6176387419"
      ]
     },
     "execution_count": 29,
     "metadata": {},
     "output_type": "execute_result"
    }
   ],
   "source": [
    "# Eerror detection on the K-NN model \n",
    "error = np.sqrt(mean_squared_error(y_test, y_pred))\n",
    "error"
   ]
  },
  {
   "cell_type": "code",
   "execution_count": 30,
   "id": "prospective-adams",
   "metadata": {
    "execution": {
     "iopub.execute_input": "2021-04-16T03:38:35.277052Z",
     "iopub.status.busy": "2021-04-16T03:38:35.276113Z",
     "iopub.status.idle": "2021-04-16T03:38:35.279873Z",
     "shell.execute_reply": "2021-04-16T03:38:35.280334Z"
    },
    "papermill": {
     "duration": 0.061955,
     "end_time": "2021-04-16T03:38:35.280526",
     "exception": false,
     "start_time": "2021-04-16T03:38:35.218571",
     "status": "completed"
    },
    "tags": []
   },
   "outputs": [
    {
     "data": {
      "text/plain": [
       "0.612033"
      ]
     },
     "execution_count": 30,
     "metadata": {},
     "output_type": "execute_result"
    }
   ],
   "source": [
    "# Time compute of the K-NN Model\n",
    "seconds = delta.seconds + delta.microseconds/1E6\n",
    "seconds"
   ]
  },
  {
   "cell_type": "code",
   "execution_count": null,
   "id": "novel-japan",
   "metadata": {
    "papermill": {
     "duration": 0.052871,
     "end_time": "2021-04-16T03:38:35.385969",
     "exception": false,
     "start_time": "2021-04-16T03:38:35.333098",
     "status": "completed"
    },
    "tags": []
   },
   "outputs": [],
   "source": []
  },
  {
   "cell_type": "markdown",
   "id": "skilled-gossip",
   "metadata": {
    "papermill": {
     "duration": 0.052889,
     "end_time": "2021-04-16T03:38:35.491954",
     "exception": false,
     "start_time": "2021-04-16T03:38:35.439065",
     "status": "completed"
    },
    "tags": []
   },
   "source": [
    "# Support Vector Regressor (SVR)"
   ]
  },
  {
   "cell_type": "code",
   "execution_count": 31,
   "id": "cheap-large",
   "metadata": {
    "execution": {
     "iopub.execute_input": "2021-04-16T03:38:35.602264Z",
     "iopub.status.busy": "2021-04-16T03:38:35.601256Z",
     "iopub.status.idle": "2021-04-16T03:38:35.607465Z",
     "shell.execute_reply": "2021-04-16T03:38:35.608066Z"
    },
    "papermill": {
     "duration": 0.063176,
     "end_time": "2021-04-16T03:38:35.608247",
     "exception": false,
     "start_time": "2021-04-16T03:38:35.545071",
     "status": "completed"
    },
    "tags": []
   },
   "outputs": [
    {
     "data": {
      "text/plain": [
       "SVR(C=100, gamma=1, kernel='linear')"
      ]
     },
     "execution_count": 31,
     "metadata": {},
     "output_type": "execute_result"
    }
   ],
   "source": [
    "# Creating the support vector regressor environment\n",
    "svr = SVR(C = 100, gamma = 1, kernel = 'linear')\n",
    "svr"
   ]
  },
  {
   "cell_type": "code",
   "execution_count": 32,
   "id": "entertaining-desert",
   "metadata": {
    "execution": {
     "iopub.execute_input": "2021-04-16T03:38:35.721375Z",
     "iopub.status.busy": "2021-04-16T03:38:35.720702Z",
     "iopub.status.idle": "2021-04-16T03:38:35.725740Z",
     "shell.execute_reply": "2021-04-16T03:38:35.726314Z"
    },
    "papermill": {
     "duration": 0.062632,
     "end_time": "2021-04-16T03:38:35.726504",
     "exception": false,
     "start_time": "2021-04-16T03:38:35.663872",
     "status": "completed"
    },
    "tags": []
   },
   "outputs": [
    {
     "data": {
      "text/plain": [
       "datetime.datetime(2021, 4, 16, 3, 38, 35, 720924)"
      ]
     },
     "execution_count": 32,
     "metadata": {},
     "output_type": "execute_result"
    }
   ],
   "source": [
    "# Importing the Time explorer module\n",
    "start = datetime.now()\n",
    "start"
   ]
  },
  {
   "cell_type": "code",
   "execution_count": 33,
   "id": "southern-niagara",
   "metadata": {
    "execution": {
     "iopub.execute_input": "2021-04-16T03:38:35.839278Z",
     "iopub.status.busy": "2021-04-16T03:38:35.838590Z",
     "iopub.status.idle": "2021-04-16T03:38:46.777180Z",
     "shell.execute_reply": "2021-04-16T03:38:46.777673Z"
    },
    "papermill": {
     "duration": 10.996601,
     "end_time": "2021-04-16T03:38:46.777853",
     "exception": false,
     "start_time": "2021-04-16T03:38:35.781252",
     "status": "completed"
    },
    "tags": []
   },
   "outputs": [
    {
     "data": {
      "text/plain": [
       "SVR(C=100, gamma=1, kernel='linear')"
      ]
     },
     "execution_count": 33,
     "metadata": {},
     "output_type": "execute_result"
    }
   ],
   "source": [
    "# Training the SVR model on the Training set\n",
    "svr.fit(X_train, y_train)"
   ]
  },
  {
   "cell_type": "code",
   "execution_count": 34,
   "id": "crude-russian",
   "metadata": {
    "execution": {
     "iopub.execute_input": "2021-04-16T03:38:46.892282Z",
     "iopub.status.busy": "2021-04-16T03:38:46.891181Z",
     "iopub.status.idle": "2021-04-16T03:38:48.571978Z",
     "shell.execute_reply": "2021-04-16T03:38:48.572445Z"
    },
    "papermill": {
     "duration": 1.740678,
     "end_time": "2021-04-16T03:38:48.572643",
     "exception": false,
     "start_time": "2021-04-16T03:38:46.831965",
     "status": "completed"
    },
    "tags": []
   },
   "outputs": [
    {
     "data": {
      "text/plain": [
       "array([ 68215.30096126, 142312.62977755, 237984.84612508, ...,\n",
       "       419312.09997962, 133584.68994066, 162759.1365595 ])"
      ]
     },
     "execution_count": 34,
     "metadata": {},
     "output_type": "execute_result"
    }
   ],
   "source": [
    "# Predicting the SVR model on the Test set\n",
    "y_pred = svr.predict(X_test)\n",
    "y_pred"
   ]
  },
  {
   "cell_type": "code",
   "execution_count": 35,
   "id": "ranging-single",
   "metadata": {
    "execution": {
     "iopub.execute_input": "2021-04-16T03:38:48.688264Z",
     "iopub.status.busy": "2021-04-16T03:38:48.687120Z",
     "iopub.status.idle": "2021-04-16T03:38:48.692967Z",
     "shell.execute_reply": "2021-04-16T03:38:48.693429Z"
    },
    "papermill": {
     "duration": 0.065878,
     "end_time": "2021-04-16T03:38:48.693626",
     "exception": false,
     "start_time": "2021-04-16T03:38:48.627748",
     "status": "completed"
    },
    "tags": []
   },
   "outputs": [
    {
     "data": {
      "text/plain": [
       "datetime.timedelta(seconds=12, microseconds=966885)"
      ]
     },
     "execution_count": 35,
     "metadata": {},
     "output_type": "execute_result"
    }
   ],
   "source": [
    "# The amount of time spent\n",
    "stop = datetime.now()\n",
    "delta = stop - start\n",
    "delta"
   ]
  },
  {
   "cell_type": "code",
   "execution_count": 36,
   "id": "vertical-consistency",
   "metadata": {
    "execution": {
     "iopub.execute_input": "2021-04-16T03:38:48.808000Z",
     "iopub.status.busy": "2021-04-16T03:38:48.807012Z",
     "iopub.status.idle": "2021-04-16T03:38:48.813290Z",
     "shell.execute_reply": "2021-04-16T03:38:48.813772Z"
    },
    "papermill": {
     "duration": 0.06513,
     "end_time": "2021-04-16T03:38:48.813955",
     "exception": false,
     "start_time": "2021-04-16T03:38:48.748825",
     "status": "completed"
    },
    "tags": []
   },
   "outputs": [
    {
     "data": {
      "text/plain": [
       "0.5858920661609106"
      ]
     },
     "execution_count": 36,
     "metadata": {},
     "output_type": "execute_result"
    }
   ],
   "source": [
    "# Accuracy of the SVR model \n",
    "accuracy = r2_score(y_test, y_pred)\n",
    "accuracy"
   ]
  },
  {
   "cell_type": "code",
   "execution_count": 37,
   "id": "banned-edwards",
   "metadata": {
    "execution": {
     "iopub.execute_input": "2021-04-16T03:38:48.931248Z",
     "iopub.status.busy": "2021-04-16T03:38:48.930279Z",
     "iopub.status.idle": "2021-04-16T03:38:48.937371Z",
     "shell.execute_reply": "2021-04-16T03:38:48.937898Z"
    },
    "papermill": {
     "duration": 0.067503,
     "end_time": "2021-04-16T03:38:48.938081",
     "exception": false,
     "start_time": "2021-04-16T03:38:48.870578",
     "status": "completed"
    },
    "tags": []
   },
   "outputs": [
    {
     "data": {
      "text/plain": [
       "73664.83248223207"
      ]
     },
     "execution_count": 37,
     "metadata": {},
     "output_type": "execute_result"
    }
   ],
   "source": [
    "# Eerror detection on the SVR model \n",
    "error = np.sqrt(mean_squared_error(y_test, y_pred))\n",
    "error"
   ]
  },
  {
   "cell_type": "code",
   "execution_count": 38,
   "id": "occasional-hampshire",
   "metadata": {
    "execution": {
     "iopub.execute_input": "2021-04-16T03:38:49.059939Z",
     "iopub.status.busy": "2021-04-16T03:38:49.059069Z",
     "iopub.status.idle": "2021-04-16T03:38:49.062450Z",
     "shell.execute_reply": "2021-04-16T03:38:49.063030Z"
    },
    "papermill": {
     "duration": 0.067993,
     "end_time": "2021-04-16T03:38:49.063199",
     "exception": false,
     "start_time": "2021-04-16T03:38:48.995206",
     "status": "completed"
    },
    "tags": []
   },
   "outputs": [
    {
     "data": {
      "text/plain": [
       "12.966885"
      ]
     },
     "execution_count": 38,
     "metadata": {},
     "output_type": "execute_result"
    }
   ],
   "source": [
    "# Time compute of the SVR Model\n",
    "seconds = delta.seconds + delta.microseconds/1E6\n",
    "seconds"
   ]
  },
  {
   "cell_type": "code",
   "execution_count": null,
   "id": "dutch-luther",
   "metadata": {
    "papermill": {
     "duration": 0.057672,
     "end_time": "2021-04-16T03:38:49.179121",
     "exception": false,
     "start_time": "2021-04-16T03:38:49.121449",
     "status": "completed"
    },
    "tags": []
   },
   "outputs": [],
   "source": []
  },
  {
   "cell_type": "markdown",
   "id": "peaceful-asian",
   "metadata": {
    "papermill": {
     "duration": 0.05824,
     "end_time": "2021-04-16T03:38:49.294515",
     "exception": false,
     "start_time": "2021-04-16T03:38:49.236275",
     "status": "completed"
    },
    "tags": []
   },
   "source": [
    "# Decision Tree Regressor"
   ]
  },
  {
   "cell_type": "code",
   "execution_count": 39,
   "id": "operating-manual",
   "metadata": {
    "execution": {
     "iopub.execute_input": "2021-04-16T03:38:49.418145Z",
     "iopub.status.busy": "2021-04-16T03:38:49.417018Z",
     "iopub.status.idle": "2021-04-16T03:38:49.423208Z",
     "shell.execute_reply": "2021-04-16T03:38:49.422557Z"
    },
    "papermill": {
     "duration": 0.071205,
     "end_time": "2021-04-16T03:38:49.423366",
     "exception": false,
     "start_time": "2021-04-16T03:38:49.352161",
     "status": "completed"
    },
    "tags": []
   },
   "outputs": [],
   "source": [
    "# Splitting the dataset into the Training set and Test set\n",
    "X_train, X_test, y_train, y_test = train_test_split(X, y, test_size = 0.2, random_state=42)"
   ]
  },
  {
   "cell_type": "code",
   "execution_count": 40,
   "id": "important-detective",
   "metadata": {
    "execution": {
     "iopub.execute_input": "2021-04-16T03:38:49.544087Z",
     "iopub.status.busy": "2021-04-16T03:38:49.543267Z",
     "iopub.status.idle": "2021-04-16T03:38:49.547264Z",
     "shell.execute_reply": "2021-04-16T03:38:49.546740Z"
    },
    "papermill": {
     "duration": 0.066998,
     "end_time": "2021-04-16T03:38:49.547400",
     "exception": false,
     "start_time": "2021-04-16T03:38:49.480402",
     "status": "completed"
    },
    "tags": []
   },
   "outputs": [
    {
     "data": {
      "text/plain": [
       "{'max_depth': [7],\n",
       " 'max_features': ['auto', 'sqrt'],\n",
       " 'min_samples_leaf': [7],\n",
       " 'min_samples_split': [0.1],\n",
       " 'criterion': ['mse']}"
      ]
     },
     "execution_count": 40,
     "metadata": {},
     "output_type": "execute_result"
    }
   ],
   "source": [
    "# Creating Decision Tree Regressor model environment\n",
    "params = {'max_depth': [7], \n",
    "          'max_features': ['auto', 'sqrt'], \n",
    "          'min_samples_leaf': [7],\n",
    "          'min_samples_split': [0.1], \n",
    "          'criterion': ['mse'] \n",
    "         }\n",
    "params"
   ]
  },
  {
   "cell_type": "code",
   "execution_count": 41,
   "id": "destroyed-information",
   "metadata": {
    "execution": {
     "iopub.execute_input": "2021-04-16T03:38:49.666252Z",
     "iopub.status.busy": "2021-04-16T03:38:49.665546Z",
     "iopub.status.idle": "2021-04-16T03:38:49.965058Z",
     "shell.execute_reply": "2021-04-16T03:38:49.965593Z"
    },
    "papermill": {
     "duration": 0.360646,
     "end_time": "2021-04-16T03:38:49.965773",
     "exception": false,
     "start_time": "2021-04-16T03:38:49.605127",
     "status": "completed"
    },
    "tags": []
   },
   "outputs": [
    {
     "data": {
      "text/plain": [
       "GridSearchCV(cv=5, estimator=DecisionTreeRegressor(), n_jobs=-1,\n",
       "             param_grid={'criterion': ['mse'], 'max_depth': [7],\n",
       "                         'max_features': ['auto', 'sqrt'],\n",
       "                         'min_samples_leaf': [7], 'min_samples_split': [0.1]},\n",
       "             scoring='neg_mean_squared_error')"
      ]
     },
     "execution_count": 41,
     "metadata": {},
     "output_type": "execute_result"
    }
   ],
   "source": [
    "# Importing the Decision Tree Regressor model\n",
    "tree = DecisionTreeRegressor()\n",
    "rs = GridSearchCV(estimator=tree, param_grid=params, cv=5, n_jobs=-1, scoring='neg_mean_squared_error')\n",
    "rs.fit(X_train, y_train)"
   ]
  },
  {
   "cell_type": "code",
   "execution_count": 42,
   "id": "superior-canada",
   "metadata": {
    "execution": {
     "iopub.execute_input": "2021-04-16T03:38:50.090726Z",
     "iopub.status.busy": "2021-04-16T03:38:50.089853Z",
     "iopub.status.idle": "2021-04-16T03:38:50.092646Z",
     "shell.execute_reply": "2021-04-16T03:38:50.093242Z"
    },
    "papermill": {
     "duration": 0.069584,
     "end_time": "2021-04-16T03:38:50.093421",
     "exception": false,
     "start_time": "2021-04-16T03:38:50.023837",
     "status": "completed"
    },
    "tags": []
   },
   "outputs": [
    {
     "data": {
      "text/plain": [
       "DecisionTreeRegressor(max_depth=7, max_features='auto', min_samples_leaf=7,\n",
       "                      min_samples_split=0.1)"
      ]
     },
     "execution_count": 42,
     "metadata": {},
     "output_type": "execute_result"
    }
   ],
   "source": [
    "# In details Decision tree Regressor model\n",
    "rs.best_estimator_"
   ]
  },
  {
   "cell_type": "code",
   "execution_count": 43,
   "id": "jewish-family",
   "metadata": {
    "execution": {
     "iopub.execute_input": "2021-04-16T03:38:50.215810Z",
     "iopub.status.busy": "2021-04-16T03:38:50.215097Z",
     "iopub.status.idle": "2021-04-16T03:38:50.219346Z",
     "shell.execute_reply": "2021-04-16T03:38:50.218768Z"
    },
    "papermill": {
     "duration": 0.067657,
     "end_time": "2021-04-16T03:38:50.219511",
     "exception": false,
     "start_time": "2021-04-16T03:38:50.151854",
     "status": "completed"
    },
    "tags": []
   },
   "outputs": [
    {
     "data": {
      "text/plain": [
       "datetime.datetime(2021, 4, 16, 3, 38, 50, 213006)"
      ]
     },
     "execution_count": 43,
     "metadata": {},
     "output_type": "execute_result"
    }
   ],
   "source": [
    "# Importing the Time explorer module\n",
    "start = datetime.now()\n",
    "start"
   ]
  },
  {
   "cell_type": "code",
   "execution_count": 44,
   "id": "sought-canvas",
   "metadata": {
    "execution": {
     "iopub.execute_input": "2021-04-16T03:38:50.340630Z",
     "iopub.status.busy": "2021-04-16T03:38:50.339972Z",
     "iopub.status.idle": "2021-04-16T03:38:50.523670Z",
     "shell.execute_reply": "2021-04-16T03:38:50.524146Z"
    },
    "papermill": {
     "duration": 0.245706,
     "end_time": "2021-04-16T03:38:50.524326",
     "exception": false,
     "start_time": "2021-04-16T03:38:50.278620",
     "status": "completed"
    },
    "tags": []
   },
   "outputs": [
    {
     "data": {
      "text/plain": [
       "DecisionTreeRegressor()"
      ]
     },
     "execution_count": 44,
     "metadata": {},
     "output_type": "execute_result"
    }
   ],
   "source": [
    "# Training the Decision Tree Regression model on the Training set\n",
    "tree.fit(X_train, y_train)"
   ]
  },
  {
   "cell_type": "code",
   "execution_count": 45,
   "id": "romantic-wales",
   "metadata": {
    "execution": {
     "iopub.execute_input": "2021-04-16T03:38:50.647343Z",
     "iopub.status.busy": "2021-04-16T03:38:50.646707Z",
     "iopub.status.idle": "2021-04-16T03:38:50.653156Z",
     "shell.execute_reply": "2021-04-16T03:38:50.653732Z"
    },
    "papermill": {
     "duration": 0.070461,
     "end_time": "2021-04-16T03:38:50.653905",
     "exception": false,
     "start_time": "2021-04-16T03:38:50.583444",
     "status": "completed"
    },
    "tags": []
   },
   "outputs": [
    {
     "data": {
      "text/plain": [
       "array([ 42500.,  52900., 500000., ..., 500001.,  68000., 159600.])"
      ]
     },
     "execution_count": 45,
     "metadata": {},
     "output_type": "execute_result"
    }
   ],
   "source": [
    "# Predicting the Decision Tree Regression model on the Test set\n",
    "y_pred = tree.predict(X_test)\n",
    "y_pred"
   ]
  },
  {
   "cell_type": "code",
   "execution_count": 46,
   "id": "vietnamese-destiny",
   "metadata": {
    "execution": {
     "iopub.execute_input": "2021-04-16T03:38:50.777251Z",
     "iopub.status.busy": "2021-04-16T03:38:50.776615Z",
     "iopub.status.idle": "2021-04-16T03:38:50.782018Z",
     "shell.execute_reply": "2021-04-16T03:38:50.782615Z"
    },
    "papermill": {
     "duration": 0.068589,
     "end_time": "2021-04-16T03:38:50.782795",
     "exception": false,
     "start_time": "2021-04-16T03:38:50.714206",
     "status": "completed"
    },
    "tags": []
   },
   "outputs": [
    {
     "data": {
      "text/plain": [
       "datetime.timedelta(microseconds=564145)"
      ]
     },
     "execution_count": 46,
     "metadata": {},
     "output_type": "execute_result"
    }
   ],
   "source": [
    "# The amount of time spent\n",
    "stop = datetime.now()\n",
    "delta = stop - start\n",
    "delta"
   ]
  },
  {
   "cell_type": "code",
   "execution_count": 47,
   "id": "eight-attachment",
   "metadata": {
    "execution": {
     "iopub.execute_input": "2021-04-16T03:38:50.909181Z",
     "iopub.status.busy": "2021-04-16T03:38:50.908414Z",
     "iopub.status.idle": "2021-04-16T03:38:50.915248Z",
     "shell.execute_reply": "2021-04-16T03:38:50.915729Z"
    },
    "papermill": {
     "duration": 0.072533,
     "end_time": "2021-04-16T03:38:50.915908",
     "exception": false,
     "start_time": "2021-04-16T03:38:50.843375",
     "status": "completed"
    },
    "tags": []
   },
   "outputs": [
    {
     "data": {
      "text/plain": [
       "0.6541276554383006"
      ]
     },
     "execution_count": 47,
     "metadata": {},
     "output_type": "execute_result"
    }
   ],
   "source": [
    "# Accuracy of the Decision tree regression model \n",
    "accuracy = r2_score(y_test, y_pred)\n",
    "accuracy"
   ]
  },
  {
   "cell_type": "code",
   "execution_count": 48,
   "id": "french-brisbane",
   "metadata": {
    "execution": {
     "iopub.execute_input": "2021-04-16T03:38:51.043105Z",
     "iopub.status.busy": "2021-04-16T03:38:51.042374Z",
     "iopub.status.idle": "2021-04-16T03:38:51.048436Z",
     "shell.execute_reply": "2021-04-16T03:38:51.047923Z"
    },
    "papermill": {
     "duration": 0.072225,
     "end_time": "2021-04-16T03:38:51.048611",
     "exception": false,
     "start_time": "2021-04-16T03:38:50.976386",
     "status": "completed"
    },
    "tags": []
   },
   "outputs": [
    {
     "data": {
      "text/plain": [
       "67322.6726771064"
      ]
     },
     "execution_count": 48,
     "metadata": {},
     "output_type": "execute_result"
    }
   ],
   "source": [
    "# Eerror detection on the Decision tree regression model \n",
    "error = np.sqrt(mean_squared_error(y_test, y_pred))\n",
    "error"
   ]
  },
  {
   "cell_type": "code",
   "execution_count": 49,
   "id": "blind-forestry",
   "metadata": {
    "execution": {
     "iopub.execute_input": "2021-04-16T03:38:51.177271Z",
     "iopub.status.busy": "2021-04-16T03:38:51.176624Z",
     "iopub.status.idle": "2021-04-16T03:38:51.179692Z",
     "shell.execute_reply": "2021-04-16T03:38:51.180208Z"
    },
    "papermill": {
     "duration": 0.069254,
     "end_time": "2021-04-16T03:38:51.180372",
     "exception": false,
     "start_time": "2021-04-16T03:38:51.111118",
     "status": "completed"
    },
    "tags": []
   },
   "outputs": [
    {
     "data": {
      "text/plain": [
       "0.564145"
      ]
     },
     "execution_count": 49,
     "metadata": {},
     "output_type": "execute_result"
    }
   ],
   "source": [
    "# Time compute of the Decision tree regression Model\n",
    "seconds = delta.seconds + delta.microseconds/1E6\n",
    "seconds"
   ]
  },
  {
   "cell_type": "code",
   "execution_count": null,
   "id": "recorded-trauma",
   "metadata": {
    "papermill": {
     "duration": 0.061401,
     "end_time": "2021-04-16T03:38:51.304392",
     "exception": false,
     "start_time": "2021-04-16T03:38:51.242991",
     "status": "completed"
    },
    "tags": []
   },
   "outputs": [],
   "source": []
  },
  {
   "cell_type": "markdown",
   "id": "functioning-advancement",
   "metadata": {
    "papermill": {
     "duration": 0.061827,
     "end_time": "2021-04-16T03:38:51.427917",
     "exception": false,
     "start_time": "2021-04-16T03:38:51.366090",
     "status": "completed"
    },
    "tags": []
   },
   "source": [
    "**Gladly, I think you were enjoying this project. Thanksgiving to you for watching till the end.**"
   ]
  }
 ],
 "metadata": {
  "kernelspec": {
   "display_name": "Python 3",
   "language": "python",
   "name": "python3"
  },
  "language_info": {
   "codemirror_mode": {
    "name": "ipython",
    "version": 3
   },
   "file_extension": ".py",
   "mimetype": "text/x-python",
   "name": "python",
   "nbconvert_exporter": "python",
   "pygments_lexer": "ipython3",
   "version": "3.7.9"
  },
  "papermill": {
   "default_parameters": {},
   "duration": 34.468046,
   "end_time": "2021-04-16T03:38:52.401550",
   "environment_variables": {},
   "exception": null,
   "input_path": "__notebook__.ipynb",
   "output_path": "__notebook__.ipynb",
   "parameters": {},
   "start_time": "2021-04-16T03:38:17.933504",
   "version": "2.3.2"
  }
 },
 "nbformat": 4,
 "nbformat_minor": 5
}
